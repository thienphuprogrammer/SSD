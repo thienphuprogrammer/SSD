{
 "cells": [
  {
   "cell_type": "code",
   "id": "initial_id",
   "metadata": {
    "collapsed": true,
    "ExecuteTime": {
     "end_time": "2024-07-10T17:36:09.336936Z",
     "start_time": "2024-07-10T17:36:09.334781Z"
    }
   },
   "source": [
    "import random\n",
    "import numpy as np"
   ],
   "outputs": [],
   "execution_count": 4
  },
  {
   "metadata": {
    "ExecuteTime": {
     "end_time": "2024-07-10T17:34:23.592482Z",
     "start_time": "2024-07-10T17:34:23.590865Z"
    }
   },
   "cell_type": "code",
   "source": [
    "sample_options = (\n",
    "            # using entire original input image\n",
    "            None,\n",
    "            # sample a patch s.t. MIN jaccard w/ obj in .1,.3,.4,.7,.9\n",
    "            (0.1, None),\n",
    "            (0.3, None),\n",
    "            (0.7, None),\n",
    "            (0.9, None),\n",
    "            # randomly sample a patch\n",
    "            (None, None),\n",
    "        )"
   ],
   "id": "e9921f90fa6f44d0",
   "outputs": [],
   "execution_count": 2
  },
  {
   "metadata": {
    "ExecuteTime": {
     "end_time": "2024-07-10T17:36:11.906630Z",
     "start_time": "2024-07-10T17:36:11.904023Z"
    }
   },
   "cell_type": "code",
   "source": [
    "mode = random.choice(sample_options)\n",
    "print(mode)"
   ],
   "id": "8d4f635fb0f588c9",
   "outputs": [
    {
     "name": "stdout",
     "output_type": "stream",
     "text": [
      "(0.1, None)\n"
     ]
    }
   ],
   "execution_count": 5
  }
 ],
 "metadata": {
  "kernelspec": {
   "display_name": "Python 3",
   "language": "python",
   "name": "python3"
  },
  "language_info": {
   "codemirror_mode": {
    "name": "ipython",
    "version": 2
   },
   "file_extension": ".py",
   "mimetype": "text/x-python",
   "name": "python",
   "nbconvert_exporter": "python",
   "pygments_lexer": "ipython2",
   "version": "2.7.6"
  }
 },
 "nbformat": 4,
 "nbformat_minor": 5
}
